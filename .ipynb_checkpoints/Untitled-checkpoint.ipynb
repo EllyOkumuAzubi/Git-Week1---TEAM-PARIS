{
 "cells": [
  {
   "cell_type": "code",
   "execution_count": 1,
   "id": "777e9d5f",
   "metadata": {},
   "outputs": [],
   "source": [
    "#c = combined_data2[combined_data2['Amount($)'] == 'Undisclosed'].index\n",
    "#b = combined_data2[combined_data2['Amount($)'] == '$Undisclosed'].index\n",
    "#b = combined_data2[combined_data2['Amount($)'] == 'Upsparks'].index\n",
    "#b = combined_data2[combined_data2['Amount($)'] == 'Series C'].index\n",
    "#b = combined_data2[combined_data2['Amount($)'] == 'Seed'].index\n",
    "#b = combined_data2[combined_data2['Amount($)'] == 'ah! Ventures'].index\n",
    "#b = combined_data2[combined_data2['Amount($)'] == 'Pre-series A'].index\n",
    "#b = combined_data2[combined_data2['Amount($)'] == 'ITO Angel Network'].index\n",
    "#b = combined_data2[combined_data2['Amount($)'] == 'LetsVenture'].index\n",
    "#b = combined_data2[combined_data2['Amount($)'] == 'JITO Angel Network'].index"
   ]
  },
  {
   "cell_type": "code",
   "execution_count": null,
   "id": "a4c9ae23",
   "metadata": {},
   "outputs": [],
   "source": [
    "drop1 = remove3.drop(e)\n",
    "drop2= drop1.drop(f)\n",
    "drop3= drop2.drop(g)\n",
    "drop4= drop3.drop(h)\n",
    "drop5= drop4.drop(i)\n",
    "drop6= drop5.drop(j)\n",
    "drop7= drop6.drop(k)\n",
    "drop8= drop7.drop(l)\n",
    "drop9= drop8.drop(m)\n",
    "drop10= drop9.drop(n)\n",
    "drop11= drop10.drop(o)\n",
    "drop12= drop11.drop(p)\n",
    "drop13= drop12.drop(q)"
   ]
  },
  {
   "cell_type": "code",
   "execution_count": null,
   "id": "8844b1ed",
   "metadata": {},
   "outputs": [],
   "source": [
    "#get index\n",
    "\n",
    "e = combined_data2[combined_data2['Amount($)'] == 'undisclosed'].index\n",
    "f = combined_data2[combined_data2['Amount($)'] == '$Undisclosed'].index\n",
    "g = combined_data2[combined_data2['Amount($)'] == 'Upsparks'].index\n",
    "h = combined_data2[combined_data2['Amount($)'] == 'Series C'].index\n",
    "i = combined_data2[combined_data2['Amount($)'] == 'Seed'].index\n",
    "j = combined_data2[combined_data2['Amount($)'] == 'ah! Ventures'].index\n",
    "k = combined_data2[combined_data2['Amount($)'] == 'Pre-series A'].index\n",
    "l = combined_data2[combined_data2['Amount($)'] == 'ITO Angel Network'].index\n",
    "m = combined_data2[combined_data2['Amount($)'] == 'LetsVenture'].index\n",
    "n = combined_data2[combined_data2['Amount($)'] == 'JITO Angel Network'].index\n",
    "o = combined_data2[combined_data2['Amount($)'] == 'Undislosed'].index\n",
    "p = combined_data2[combined_data2['Amount($)'] == 'ITO Angel Network LetsVenture'].index\n",
    "q = combined_data2[combined_data2['Amount($)'] == 'JITO Angel Network LetsVenture'].index"
   ]
  },
  {
   "cell_type": "code",
   "execution_count": null,
   "id": "3b3423ed",
   "metadata": {},
   "outputs": [],
   "source": []
  },
  {
   "cell_type": "code",
   "execution_count": null,
   "id": "82c1b60a",
   "metadata": {},
   "outputs": [],
   "source": [
    "remove4 =remove3[remove3['Amount($)'].apply(lambda x: str(x).isdigit())]\n",
    "\n",
    "remove4['Amount($)'].astype('int64')\n",
    "\n",
    "remove4['Amount($)'].unique()"
   ]
  },
  {
   "cell_type": "code",
   "execution_count": null,
   "id": "e772532c",
   "metadata": {},
   "outputs": [],
   "source": []
  }
 ],
 "metadata": {
  "kernelspec": {
   "display_name": "Python 3 (ipykernel)",
   "language": "python",
   "name": "python3"
  },
  "language_info": {
   "codemirror_mode": {
    "name": "ipython",
    "version": 3
   },
   "file_extension": ".py",
   "mimetype": "text/x-python",
   "name": "python",
   "nbconvert_exporter": "python",
   "pygments_lexer": "ipython3",
   "version": "3.9.13"
  }
 },
 "nbformat": 4,
 "nbformat_minor": 5
}
